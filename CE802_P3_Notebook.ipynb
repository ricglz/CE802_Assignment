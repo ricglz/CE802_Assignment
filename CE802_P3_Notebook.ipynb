{
 "cells": [
  {
   "cell_type": "markdown",
   "metadata": {},
   "source": [
    "#### Import the dependencies"
   ]
  },
  {
   "cell_type": "code",
   "execution_count": 1,
   "metadata": {},
   "outputs": [],
   "source": [
    "#!/usr/bin/env python\n",
    "# -*- coding: utf-8 -*-\n",
    "import numpy as np\n",
    "import pandas as pd\n",
    "import seaborn as sns\n",
    "from sklearn.model_selection import train_test_split\n",
    "from sklearn.preprocessing import MinMaxScaler\n",
    "from sklearn.linear_model import LinearRegression\n",
    "from sklearn.metrics import r2_score\n",
    "from sklearn.ensemble import AdaBoostRegressor, RandomForestRegressor\n",
    "from tensorflow.keras.models import Sequential\n",
    "from tensorflow.keras.layers import Dense\n",
    "from itertools import product\n",
    "from math import sqrt"
   ]
  },
  {
   "cell_type": "markdown",
   "metadata": {},
   "source": [
    "#### Read the training dataset"
   ]
  },
  {
   "cell_type": "code",
   "execution_count": 58,
   "metadata": {},
   "outputs": [],
   "source": [
    "df = pd.read_csv('./CE802_P3_Data/CE802_P3_Data.csv')"
   ]
  },
  {
   "cell_type": "markdown",
   "metadata": {},
   "source": [
    "#### Check the amount of rows"
   ]
  },
  {
   "cell_type": "code",
   "execution_count": 3,
   "metadata": {},
   "outputs": [
    {
     "data": {
      "text/plain": [
       "1500"
      ]
     },
     "execution_count": 3,
     "metadata": {},
     "output_type": "execute_result"
    }
   ],
   "source": [
    "len(df)"
   ]
  },
  {
   "cell_type": "markdown",
   "metadata": {},
   "source": [
    "#### Check missing null values"
   ]
  },
  {
   "cell_type": "code",
   "execution_count": 5,
   "metadata": {},
   "outputs": [
    {
     "data": {
      "text/plain": [
       "Target    0\n",
       "F1        0\n",
       "F2        0\n",
       "F3        0\n",
       "F4        0\n",
       "F5        0\n",
       "F6        0\n",
       "F7        0\n",
       "F8        0\n",
       "F9        0\n",
       "F10       0\n",
       "F11       0\n",
       "F12       0\n",
       "F13       0\n",
       "F14       0\n",
       "F15       0\n",
       "F16       0\n",
       "dtype: int64"
      ]
     },
     "execution_count": 5,
     "metadata": {},
     "output_type": "execute_result"
    }
   ],
   "source": [
    "df.isnull().sum()"
   ]
  },
  {
   "cell_type": "markdown",
   "metadata": {},
   "source": [
    "#### Check about the types of the features"
   ]
  },
  {
   "cell_type": "code",
   "execution_count": 6,
   "metadata": {},
   "outputs": [
    {
     "name": "stdout",
     "output_type": "stream",
     "text": [
      "<class 'pandas.core.frame.DataFrame'>\n",
      "RangeIndex: 1500 entries, 0 to 1499\n",
      "Data columns (total 17 columns):\n",
      " #   Column  Non-Null Count  Dtype  \n",
      "---  ------  --------------  -----  \n",
      " 0   Target  1500 non-null   float64\n",
      " 1   F1      1500 non-null   float64\n",
      " 2   F2      1500 non-null   float64\n",
      " 3   F3      1500 non-null   float64\n",
      " 4   F4      1500 non-null   float64\n",
      " 5   F5      1500 non-null   float64\n",
      " 6   F6      1500 non-null   float64\n",
      " 7   F7      1500 non-null   float64\n",
      " 8   F8      1500 non-null   object \n",
      " 9   F9      1500 non-null   int64  \n",
      " 10  F10     1500 non-null   float64\n",
      " 11  F11     1500 non-null   float64\n",
      " 12  F12     1500 non-null   int64  \n",
      " 13  F13     1500 non-null   float64\n",
      " 14  F14     1500 non-null   float64\n",
      " 15  F15     1500 non-null   object \n",
      " 16  F16     1500 non-null   float64\n",
      "dtypes: float64(13), int64(2), object(2)\n",
      "memory usage: 199.3+ KB\n"
     ]
    }
   ],
   "source": [
    "df.info()"
   ]
  },
  {
   "cell_type": "code",
   "execution_count": 7,
   "metadata": {},
   "outputs": [
    {
     "data": {
      "text/plain": [
       "array(['Europe', 'Rest', 'UK', 'USA'], dtype=object)"
      ]
     },
     "execution_count": 7,
     "metadata": {},
     "output_type": "execute_result"
    }
   ],
   "source": [
    "df['F8'].unique()"
   ]
  },
  {
   "cell_type": "code",
   "execution_count": 8,
   "metadata": {},
   "outputs": [
    {
     "data": {
      "text/plain": [
       "array(['High', 'Very low', 'Very high', 'Medium', 'Low'], dtype=object)"
      ]
     },
     "execution_count": 8,
     "metadata": {},
     "output_type": "execute_result"
    }
   ],
   "source": [
    "df['F15'].unique()"
   ]
  },
  {
   "cell_type": "markdown",
   "metadata": {},
   "source": [
    "#### Create the preprocess function\n",
    "\n",
    "This function has the objective of preparing the current dataframe named as `df` by creating dummy variables and mapping categorical values, as well as moving the `Target` column as the first column in the df"
   ]
  },
  {
   "cell_type": "code",
   "execution_count": 47,
   "metadata": {},
   "outputs": [],
   "source": [
    "def preprocess():\n",
    "    global df\n",
    "    df = pd.get_dummies(df, columns=['F8'])\n",
    "    f15_mapping_dict = {'Very low': 0, 'Low': 1, 'Medium': 2, 'High': 3, 'Very high': 4}\n",
    "    df['F15'] = df['F15'].map(f15_mapping_dict)\n",
    "    value = df['Target']\n",
    "    df = df.drop(columns=['Target'])\n",
    "    df.insert(0, 'Target', value)"
   ]
  },
  {
   "cell_type": "code",
   "execution_count": 59,
   "metadata": {},
   "outputs": [
    {
     "data": {
      "text/html": [
       "<div>\n",
       "<style scoped>\n",
       "    .dataframe tbody tr th:only-of-type {\n",
       "        vertical-align: middle;\n",
       "    }\n",
       "\n",
       "    .dataframe tbody tr th {\n",
       "        vertical-align: top;\n",
       "    }\n",
       "\n",
       "    .dataframe thead th {\n",
       "        text-align: right;\n",
       "    }\n",
       "</style>\n",
       "<table border=\"1\" class=\"dataframe\">\n",
       "  <thead>\n",
       "    <tr style=\"text-align: right;\">\n",
       "      <th></th>\n",
       "      <th>Target</th>\n",
       "      <th>F1</th>\n",
       "      <th>F2</th>\n",
       "      <th>F3</th>\n",
       "      <th>F4</th>\n",
       "      <th>F5</th>\n",
       "      <th>F6</th>\n",
       "      <th>F7</th>\n",
       "      <th>F9</th>\n",
       "      <th>F10</th>\n",
       "      <th>F11</th>\n",
       "      <th>F12</th>\n",
       "      <th>F13</th>\n",
       "      <th>F14</th>\n",
       "      <th>F15</th>\n",
       "      <th>F16</th>\n",
       "      <th>F8_Europe</th>\n",
       "      <th>F8_Rest</th>\n",
       "      <th>F8_UK</th>\n",
       "      <th>F8_USA</th>\n",
       "    </tr>\n",
       "  </thead>\n",
       "  <tbody>\n",
       "    <tr>\n",
       "      <th>0</th>\n",
       "      <td>167.75</td>\n",
       "      <td>0.00</td>\n",
       "      <td>1.73</td>\n",
       "      <td>3.14</td>\n",
       "      <td>5.73</td>\n",
       "      <td>-5.48</td>\n",
       "      <td>-743.61</td>\n",
       "      <td>152.20</td>\n",
       "      <td>3</td>\n",
       "      <td>1577.82</td>\n",
       "      <td>-383.82</td>\n",
       "      <td>12</td>\n",
       "      <td>-2289.14</td>\n",
       "      <td>-19.69</td>\n",
       "      <td>3</td>\n",
       "      <td>25354.83</td>\n",
       "      <td>1</td>\n",
       "      <td>0</td>\n",
       "      <td>0</td>\n",
       "      <td>0</td>\n",
       "    </tr>\n",
       "    <tr>\n",
       "      <th>1</th>\n",
       "      <td>704.46</td>\n",
       "      <td>9.84</td>\n",
       "      <td>3.46</td>\n",
       "      <td>6.02</td>\n",
       "      <td>14.42</td>\n",
       "      <td>-10.94</td>\n",
       "      <td>-820.35</td>\n",
       "      <td>68.56</td>\n",
       "      <td>4</td>\n",
       "      <td>1884.69</td>\n",
       "      <td>-488.34</td>\n",
       "      <td>6</td>\n",
       "      <td>-2899.20</td>\n",
       "      <td>-19.46</td>\n",
       "      <td>0</td>\n",
       "      <td>32380.17</td>\n",
       "      <td>0</td>\n",
       "      <td>1</td>\n",
       "      <td>0</td>\n",
       "      <td>0</td>\n",
       "    </tr>\n",
       "    <tr>\n",
       "      <th>2</th>\n",
       "      <td>302.43</td>\n",
       "      <td>4.14</td>\n",
       "      <td>-1.95</td>\n",
       "      <td>6.96</td>\n",
       "      <td>4.27</td>\n",
       "      <td>-7.94</td>\n",
       "      <td>-818.43</td>\n",
       "      <td>107.86</td>\n",
       "      <td>4</td>\n",
       "      <td>2063.79</td>\n",
       "      <td>-287.76</td>\n",
       "      <td>6</td>\n",
       "      <td>-2885.52</td>\n",
       "      <td>-20.57</td>\n",
       "      <td>4</td>\n",
       "      <td>28882.38</td>\n",
       "      <td>0</td>\n",
       "      <td>1</td>\n",
       "      <td>0</td>\n",
       "      <td>0</td>\n",
       "    </tr>\n",
       "    <tr>\n",
       "      <th>3</th>\n",
       "      <td>2420.98</td>\n",
       "      <td>20.06</td>\n",
       "      <td>-3.34</td>\n",
       "      <td>3.76</td>\n",
       "      <td>4.78</td>\n",
       "      <td>-6.30</td>\n",
       "      <td>-814.53</td>\n",
       "      <td>147.04</td>\n",
       "      <td>7</td>\n",
       "      <td>1319.19</td>\n",
       "      <td>-435.54</td>\n",
       "      <td>4</td>\n",
       "      <td>-2319.80</td>\n",
       "      <td>-20.24</td>\n",
       "      <td>4</td>\n",
       "      <td>28523.04</td>\n",
       "      <td>0</td>\n",
       "      <td>0</td>\n",
       "      <td>1</td>\n",
       "      <td>0</td>\n",
       "    </tr>\n",
       "    <tr>\n",
       "      <th>4</th>\n",
       "      <td>271.65</td>\n",
       "      <td>63.63</td>\n",
       "      <td>-0.97</td>\n",
       "      <td>11.08</td>\n",
       "      <td>5.66</td>\n",
       "      <td>-9.60</td>\n",
       "      <td>-847.41</td>\n",
       "      <td>99.70</td>\n",
       "      <td>1</td>\n",
       "      <td>1921.14</td>\n",
       "      <td>-246.45</td>\n",
       "      <td>10</td>\n",
       "      <td>-1344.40</td>\n",
       "      <td>-21.90</td>\n",
       "      <td>2</td>\n",
       "      <td>27915.81</td>\n",
       "      <td>1</td>\n",
       "      <td>0</td>\n",
       "      <td>0</td>\n",
       "      <td>0</td>\n",
       "    </tr>\n",
       "  </tbody>\n",
       "</table>\n",
       "</div>"
      ],
      "text/plain": [
       "    Target     F1    F2     F3     F4     F5      F6      F7  F9      F10  \\\n",
       "0   167.75   0.00  1.73   3.14   5.73  -5.48 -743.61  152.20   3  1577.82   \n",
       "1   704.46   9.84  3.46   6.02  14.42 -10.94 -820.35   68.56   4  1884.69   \n",
       "2   302.43   4.14 -1.95   6.96   4.27  -7.94 -818.43  107.86   4  2063.79   \n",
       "3  2420.98  20.06 -3.34   3.76   4.78  -6.30 -814.53  147.04   7  1319.19   \n",
       "4   271.65  63.63 -0.97  11.08   5.66  -9.60 -847.41   99.70   1  1921.14   \n",
       "\n",
       "      F11  F12      F13    F14  F15       F16  F8_Europe  F8_Rest  F8_UK  \\\n",
       "0 -383.82   12 -2289.14 -19.69    3  25354.83          1        0      0   \n",
       "1 -488.34    6 -2899.20 -19.46    0  32380.17          0        1      0   \n",
       "2 -287.76    6 -2885.52 -20.57    4  28882.38          0        1      0   \n",
       "3 -435.54    4 -2319.80 -20.24    4  28523.04          0        0      1   \n",
       "4 -246.45   10 -1344.40 -21.90    2  27915.81          1        0      0   \n",
       "\n",
       "   F8_USA  \n",
       "0       0  \n",
       "1       0  \n",
       "2       0  \n",
       "3       0  \n",
       "4       0  "
      ]
     },
     "execution_count": 59,
     "metadata": {},
     "output_type": "execute_result"
    }
   ],
   "source": [
    "preprocess()\n",
    "df.head()"
   ]
  },
  {
   "cell_type": "markdown",
   "metadata": {},
   "source": [
    "#### Quick analysis of correlation of features and class"
   ]
  },
  {
   "cell_type": "code",
   "execution_count": 10,
   "metadata": {},
   "outputs": [
    {
     "data": {
      "text/plain": [
       "<AxesSubplot:>"
      ]
     },
     "execution_count": 10,
     "metadata": {},
     "output_type": "execute_result"
    },
    {
     "data": {
      "image/png": "[encoded data removed]",
      "text/plain": [
       "<Figure size 432x288 with 2 Axes>"
      ]
     },
     "metadata": {},
     "output_type": "display_data"
    }
   ],
   "source": [
    "sns.set_theme()\n",
    "# Compute the correlation matrix\n",
    "corr_all = df.corr()\n",
    "# Generate a mask for the upper triangle\n",
    "mask = np.zeros_like(corr_all, dtype = np.bool)\n",
    "mask[np.triu_indices_from(mask)] = True\n",
    "# Draw the heatmap with the mask and correct aspect ratio\n",
    "sns.heatmap(corr_all, mask = mask, cmap = \"BuPu\")"
   ]
  },
  {
   "cell_type": "markdown",
   "metadata": {},
   "source": [
    "Seems like the maybe the best columns to check will be:\n",
    "\n",
    "- F3\n",
    "- F4\n",
    "- F7\n",
    "- F9\n",
    "- F13\n",
    "- F15\n",
    "- F8_Rest\n",
    "\n",
    "This will help to reduce the complexity but have those variables that seems correlated with the class column"
   ]
  },
  {
   "cell_type": "markdown",
   "metadata": {},
   "source": [
    "#### Creation of datasets\n",
    "\n",
    "With this function we will prepare the df to have specific columns in the created training and testing datasets, as well as scaling the values of the inputs"
   ]
  },
  {
   "cell_type": "code",
   "execution_count": 11,
   "metadata": {},
   "outputs": [],
   "source": [
    "corr_cols = ['F3', 'F4', 'F7', 'F9', 'F13', 'F15', 'F8_Rest']\n",
    "def create_datasets(all_columns=True, cols=None):\n",
    "    x_cols = df.columns[1:] if all_columns else corr_cols if cols is None else cols\n",
    "    X, Y = df[x_cols], df['Target']\n",
    "    scaler = MinMaxScaler()\n",
    "    X = scaler.fit_transform(X)\n",
    "    x_train, x_test, y_train, y_test = train_test_split(X, Y, test_size=0.3)\n",
    "    return (x_train, y_train), (x_test, y_test)\n",
    "\n",
    "corr_datasets = lambda: create_datasets(False)"
   ]
  },
  {
   "cell_type": "markdown",
   "metadata": {},
   "source": [
    "## Check the performance"
   ]
  },
  {
   "cell_type": "markdown",
   "metadata": {},
   "source": [
    "#### Create function to permurate params\n",
    "What this function will do is the following\n",
    "\n",
    "1. Create all the combination of the possible parameters values given to the function.Ex.\n",
    "\n",
    "`params = [[1, 2], [4, 5]] -> products = [(1, 4), (1, 5), (2, 4), (2, 5)]`\n",
    "\n",
    "2. Evaluate each of the products using the builder function. _Note. All the builders will return a score, in this case the score is the mean accuracy of the model_\n",
    "3. Based on the prior evaluation, we will see which is the argmax and return the score and params used"
   ]
  },
  {
   "cell_type": "code",
   "execution_count": 12,
   "metadata": {},
   "outputs": [],
   "source": [
    "def permutate_params(builder, params):\n",
    "    products = list(product(*params))\n",
    "    scores = list(map(builder, products))\n",
    "    max_index = np.argmax(scores)\n",
    "    return scores[max_index], products[max_index]"
   ]
  },
  {
   "cell_type": "markdown",
   "metadata": {},
   "source": [
    "This score function is to conveniently get the score for the scikit learn models"
   ]
  },
  {
   "cell_type": "code",
   "execution_count": 13,
   "metadata": {},
   "outputs": [],
   "source": [
    "def get_score(model):\n",
    "    return model.fit(training[0], training[1]).score(testing[0], testing[1])"
   ]
  },
  {
   "cell_type": "markdown",
   "metadata": {},
   "source": [
    "#### Get training and testing datasets"
   ]
  },
  {
   "cell_type": "code",
   "execution_count": 31,
   "metadata": {},
   "outputs": [],
   "source": [
    "training, testing = create_datasets()"
   ]
  },
  {
   "cell_type": "markdown",
   "metadata": {},
   "source": [
    "### LinearRegressor"
   ]
  },
  {
   "cell_type": "code",
   "execution_count": 15,
   "metadata": {},
   "outputs": [
    {
     "data": {
      "text/plain": [
       "0.7710127762911145"
      ]
     },
     "execution_count": 15,
     "metadata": {},
     "output_type": "execute_result"
    }
   ],
   "source": [
    "get_score(LinearRegression())"
   ]
  },
  {
   "cell_type": "markdown",
   "metadata": {},
   "source": [
    "### AdaBoostRegressor"
   ]
  },
  {
   "cell_type": "code",
   "execution_count": 16,
   "metadata": {},
   "outputs": [],
   "source": [
    "def build_ada(values):\n",
    "    n_estimators, learning_rate, loss = values\n",
    "    return get_score(AdaBoostRegressor(\n",
    "        n_estimators=n_estimators,\n",
    "        learning_rate=learning_rate,\n",
    "        loss=loss,\n",
    "    ))"
   ]
  },
  {
   "cell_type": "code",
   "execution_count": 17,
   "metadata": {},
   "outputs": [],
   "source": [
    "estimator_values = [25, 50, 100, 200]\n",
    "learning_rate = [0.25, 0.5, 1, 2]\n",
    "loss = ['linear', 'square', 'exponential']"
   ]
  },
  {
   "cell_type": "code",
   "execution_count": 18,
   "metadata": {},
   "outputs": [
    {
     "data": {
      "text/plain": [
       "(0.7180073854989814, (200, 1, 'square'))"
      ]
     },
     "execution_count": 18,
     "metadata": {},
     "output_type": "execute_result"
    }
   ],
   "source": [
    "permutate_params(build_ada, [estimator_values, learning_rate, loss])"
   ]
  },
  {
   "cell_type": "markdown",
   "metadata": {},
   "source": [
    "### RandomForestRegressor"
   ]
  },
  {
   "cell_type": "code",
   "execution_count": 19,
   "metadata": {},
   "outputs": [],
   "source": [
    "def build_forest(values):\n",
    "    n_estimators, criterion, max_depth, max_features = values\n",
    "    return get_score(RandomForestRegressor(\n",
    "        n_estimators=n_estimators,\n",
    "        criterion=criterion,\n",
    "        max_depth=max_depth,\n",
    "        max_features=max_features\n",
    "    ))"
   ]
  },
  {
   "cell_type": "code",
   "execution_count": 20,
   "metadata": {},
   "outputs": [],
   "source": [
    "estimator_values = [25, 50, 100, 200]\n",
    "criterions = ['mse', 'mae']\n",
    "max_depth = [10, 40, 160, None]\n",
    "max_features = ['auto', 'sqrt', 'log2']"
   ]
  },
  {
   "cell_type": "code",
   "execution_count": 21,
   "metadata": {},
   "outputs": [
    {
     "data": {
      "text/plain": [
       "(0.6824304533331697, (100, 'mse', 40, 'auto'))"
      ]
     },
     "execution_count": 21,
     "metadata": {},
     "output_type": "execute_result"
    }
   ],
   "source": [
    "permutate_params(build_forest, [estimator_values, criterions, max_depth, max_features])"
   ]
  },
  {
   "cell_type": "markdown",
   "metadata": {},
   "source": [
    "### Neural Networks\n",
    "\n",
    "This builder function is the must complicated of all. The overall objective of the builder is to create a function that creates a MLP Neural Network that consists of **3 hidden layers**.\n",
    "\n",
    "The main difference with the other builders is that the parameters received for the builder are actually an array consisting of tuples of parameters. As each of this tuples are the parameters that each of the layers may have, in this case being the amount of units per layer and the activation function."
   ]
  },
  {
   "cell_type": "code",
   "execution_count": 33,
   "metadata": {},
   "outputs": [],
   "source": [
    "def build_nn(values):\n",
    "    model = Sequential()\n",
    "    for index, layer_params in enumerate(values):\n",
    "        units, activation = layer_params\n",
    "        if index == 0:\n",
    "            model.add(Dense(units, activation=activation, input_shape=input_shape))\n",
    "        else:\n",
    "            model.add(Dense(units, activation=activation))\n",
    "    model.add(Dense(1, activation='linear'))\n",
    "    model.compile(optimizer='Adam', loss='mse')\n",
    "    model.fit(training[0], training[1], epochs=50, verbose=0)\n",
    "    return r2_score(testing[1], model.predict(testing[0]), multioutput='variance_weighted')"
   ]
  },
  {
   "cell_type": "code",
   "execution_count": 23,
   "metadata": {},
   "outputs": [],
   "source": [
    "layer_products = list(product([5, 10, 20, 50], ['tanh', 'relu', 'sigmoid']))"
   ]
  },
  {
   "cell_type": "code",
   "execution_count": 34,
   "metadata": {},
   "outputs": [
    {
     "name": "stdout",
     "output_type": "stream",
     "text": [
      "Best params ((20, 'tanh'), (50, 'relu'), (50, 'relu'))\n",
      "Best Score 0.9716288287194671\n"
     ]
    }
   ],
   "source": [
    "inputs_num = training[0].shape[1]\n",
    "input_shape = (inputs_num,)\n",
    "best_params, best_score = [], 0\n",
    "\n",
    "for params in list(product(layer_products, layer_products, layer_products)):\n",
    "    score = build_nn(params)\n",
    "    if score > best_score:\n",
    "        best_params = params\n",
    "        best_score = score\n",
    "\n",
    "print('Best params', best_params)\n",
    "print('Best Score', best_score)"
   ]
  },
  {
   "cell_type": "markdown",
   "metadata": {},
   "source": [
    "## Check the performance (correlation features)"
   ]
  },
  {
   "cell_type": "code",
   "execution_count": 35,
   "metadata": {},
   "outputs": [],
   "source": [
    "training, testing = corr_datasets()"
   ]
  },
  {
   "cell_type": "markdown",
   "metadata": {},
   "source": [
    "After this we will reuse the same code for obtaining the best score and permutation as above, being the only difference the training and testing datasets used"
   ]
  },
  {
   "cell_type": "code",
   "execution_count": 26,
   "metadata": {},
   "outputs": [
    {
     "data": {
      "text/plain": [
       "0.6518751739405821"
      ]
     },
     "execution_count": 26,
     "metadata": {},
     "output_type": "execute_result"
    }
   ],
   "source": [
    "get_score(LinearRegression())"
   ]
  },
  {
   "cell_type": "code",
   "execution_count": 27,
   "metadata": {},
   "outputs": [
    {
     "data": {
      "text/plain": [
       "(0.571587543259356, (50, 2, 'square'))"
      ]
     },
     "execution_count": 27,
     "metadata": {},
     "output_type": "execute_result"
    }
   ],
   "source": [
    "permutate_params(build_ada, [estimator_values, learning_rate, loss])"
   ]
  },
  {
   "cell_type": "code",
   "execution_count": 28,
   "metadata": {},
   "outputs": [
    {
     "data": {
      "text/plain": [
       "(0.6628128381970622, (100, 'mse', 40, 'log2'))"
      ]
     },
     "execution_count": 28,
     "metadata": {},
     "output_type": "execute_result"
    }
   ],
   "source": [
    "permutate_params(build_forest, [estimator_values, criterions, max_depth, max_features])"
   ]
  },
  {
   "cell_type": "code",
   "execution_count": 36,
   "metadata": {},
   "outputs": [
    {
     "name": "stdout",
     "output_type": "stream",
     "text": [
      "Best params ((50, 'tanh'), (50, 'relu'), (50, 'relu'))\n",
      "Best Score 0.7278559214049255\n"
     ]
    }
   ],
   "source": [
    "best_params, best_score = [], 0\n",
    "inputs_num = training[0].shape[1]\n",
    "input_shape = (inputs_num,)\n",
    "\n",
    "for params in list(product(layer_products, layer_products, layer_products)):\n",
    "    score = build_nn(params)\n",
    "    if score > best_score:\n",
    "        best_params = params\n",
    "        best_score = score\n",
    "\n",
    "print('Best params', best_params)\n",
    "print('Best Score', best_score)"
   ]
  },
  {
   "cell_type": "markdown",
   "metadata": {},
   "source": [
    "## Predict test dataset\n",
    "\n",
    "Based on the results above, the best model that we obtained was the SVC model using all the data, the following scripts will be used to predict the class of the test dataset using the mentioned model"
   ]
  },
  {
   "cell_type": "code",
   "execution_count": 37,
   "metadata": {},
   "outputs": [],
   "source": [
    "training, testing = create_datasets()"
   ]
  },
  {
   "cell_type": "code",
   "execution_count": 52,
   "metadata": {},
   "outputs": [
    {
     "data": {
      "text/html": [
       "<div>\n",
       "<style scoped>\n",
       "    .dataframe tbody tr th:only-of-type {\n",
       "        vertical-align: middle;\n",
       "    }\n",
       "\n",
       "    .dataframe tbody tr th {\n",
       "        vertical-align: top;\n",
       "    }\n",
       "\n",
       "    .dataframe thead th {\n",
       "        text-align: right;\n",
       "    }\n",
       "</style>\n",
       "<table border=\"1\" class=\"dataframe\">\n",
       "  <thead>\n",
       "    <tr style=\"text-align: right;\">\n",
       "      <th></th>\n",
       "      <th>F1</th>\n",
       "      <th>F2</th>\n",
       "      <th>F3</th>\n",
       "      <th>F4</th>\n",
       "      <th>F5</th>\n",
       "      <th>F6</th>\n",
       "      <th>F7</th>\n",
       "      <th>F8</th>\n",
       "      <th>F9</th>\n",
       "      <th>F10</th>\n",
       "      <th>F11</th>\n",
       "      <th>F12</th>\n",
       "      <th>F13</th>\n",
       "      <th>F14</th>\n",
       "      <th>F15</th>\n",
       "      <th>F16</th>\n",
       "      <th>Target</th>\n",
       "    </tr>\n",
       "  </thead>\n",
       "  <tbody>\n",
       "    <tr>\n",
       "      <th>0</th>\n",
       "      <td>0.04</td>\n",
       "      <td>-0.21</td>\n",
       "      <td>3.68</td>\n",
       "      <td>1.54</td>\n",
       "      <td>-6.70</td>\n",
       "      <td>-929.34</td>\n",
       "      <td>234.18</td>\n",
       "      <td>USA</td>\n",
       "      <td>2</td>\n",
       "      <td>3391.35</td>\n",
       "      <td>-415.41</td>\n",
       "      <td>6</td>\n",
       "      <td>-1460.14</td>\n",
       "      <td>-20.55</td>\n",
       "      <td>Low</td>\n",
       "      <td>31369.98</td>\n",
       "      <td>NaN</td>\n",
       "    </tr>\n",
       "    <tr>\n",
       "      <th>1</th>\n",
       "      <td>0.89</td>\n",
       "      <td>2.97</td>\n",
       "      <td>2.28</td>\n",
       "      <td>1.97</td>\n",
       "      <td>-4.52</td>\n",
       "      <td>-700.62</td>\n",
       "      <td>106.84</td>\n",
       "      <td>Rest</td>\n",
       "      <td>2</td>\n",
       "      <td>3479.19</td>\n",
       "      <td>-320.73</td>\n",
       "      <td>2</td>\n",
       "      <td>-2301.76</td>\n",
       "      <td>-27.90</td>\n",
       "      <td>Low</td>\n",
       "      <td>29173.89</td>\n",
       "      <td>NaN</td>\n",
       "    </tr>\n",
       "    <tr>\n",
       "      <th>2</th>\n",
       "      <td>0.37</td>\n",
       "      <td>-0.17</td>\n",
       "      <td>7.14</td>\n",
       "      <td>0.40</td>\n",
       "      <td>-14.26</td>\n",
       "      <td>-796.14</td>\n",
       "      <td>32.30</td>\n",
       "      <td>USA</td>\n",
       "      <td>5</td>\n",
       "      <td>918.93</td>\n",
       "      <td>-379.44</td>\n",
       "      <td>4</td>\n",
       "      <td>-2589.08</td>\n",
       "      <td>-20.52</td>\n",
       "      <td>Very low</td>\n",
       "      <td>17248.26</td>\n",
       "      <td>NaN</td>\n",
       "    </tr>\n",
       "    <tr>\n",
       "      <th>3</th>\n",
       "      <td>5.37</td>\n",
       "      <td>0.07</td>\n",
       "      <td>7.18</td>\n",
       "      <td>6.81</td>\n",
       "      <td>-6.14</td>\n",
       "      <td>-801.03</td>\n",
       "      <td>32.92</td>\n",
       "      <td>Europe</td>\n",
       "      <td>2</td>\n",
       "      <td>2657.43</td>\n",
       "      <td>-491.28</td>\n",
       "      <td>6</td>\n",
       "      <td>-1767.44</td>\n",
       "      <td>-25.81</td>\n",
       "      <td>Low</td>\n",
       "      <td>15450.54</td>\n",
       "      <td>NaN</td>\n",
       "    </tr>\n",
       "    <tr>\n",
       "      <th>4</th>\n",
       "      <td>0.26</td>\n",
       "      <td>6.16</td>\n",
       "      <td>3.54</td>\n",
       "      <td>1.10</td>\n",
       "      <td>-16.76</td>\n",
       "      <td>-652.08</td>\n",
       "      <td>227.98</td>\n",
       "      <td>Rest</td>\n",
       "      <td>4</td>\n",
       "      <td>2739.96</td>\n",
       "      <td>-378.48</td>\n",
       "      <td>10</td>\n",
       "      <td>-1823.32</td>\n",
       "      <td>-23.11</td>\n",
       "      <td>Very low</td>\n",
       "      <td>35745.03</td>\n",
       "      <td>NaN</td>\n",
       "    </tr>\n",
       "  </tbody>\n",
       "</table>\n",
       "</div>"
      ],
      "text/plain": [
       "     F1    F2    F3    F4     F5      F6      F7      F8  F9      F10     F11  \\\n",
       "0  0.04 -0.21  3.68  1.54  -6.70 -929.34  234.18     USA   2  3391.35 -415.41   \n",
       "1  0.89  2.97  2.28  1.97  -4.52 -700.62  106.84    Rest   2  3479.19 -320.73   \n",
       "2  0.37 -0.17  7.14  0.40 -14.26 -796.14   32.30     USA   5   918.93 -379.44   \n",
       "3  5.37  0.07  7.18  6.81  -6.14 -801.03   32.92  Europe   2  2657.43 -491.28   \n",
       "4  0.26  6.16  3.54  1.10 -16.76 -652.08  227.98    Rest   4  2739.96 -378.48   \n",
       "\n",
       "   F12      F13    F14       F15       F16  Target  \n",
       "0    6 -1460.14 -20.55       Low  31369.98     NaN  \n",
       "1    2 -2301.76 -27.90       Low  29173.89     NaN  \n",
       "2    4 -2589.08 -20.52  Very low  17248.26     NaN  \n",
       "3    6 -1767.44 -25.81       Low  15450.54     NaN  \n",
       "4   10 -1823.32 -23.11  Very low  35745.03     NaN  "
      ]
     },
     "execution_count": 52,
     "metadata": {},
     "output_type": "execute_result"
    }
   ],
   "source": [
    "df = pd.read_csv('./CE802_P3_Data/CE802_P3_Test.csv')\n",
    "df.head()"
   ]
  },
  {
   "cell_type": "code",
   "execution_count": 53,
   "metadata": {},
   "outputs": [
    {
     "data": {
      "text/html": [
       "<div>\n",
       "<style scoped>\n",
       "    .dataframe tbody tr th:only-of-type {\n",
       "        vertical-align: middle;\n",
       "    }\n",
       "\n",
       "    .dataframe tbody tr th {\n",
       "        vertical-align: top;\n",
       "    }\n",
       "\n",
       "    .dataframe thead th {\n",
       "        text-align: right;\n",
       "    }\n",
       "</style>\n",
       "<table border=\"1\" class=\"dataframe\">\n",
       "  <thead>\n",
       "    <tr style=\"text-align: right;\">\n",
       "      <th></th>\n",
       "      <th>Target</th>\n",
       "      <th>F1</th>\n",
       "      <th>F2</th>\n",
       "      <th>F3</th>\n",
       "      <th>F4</th>\n",
       "      <th>F5</th>\n",
       "      <th>F6</th>\n",
       "      <th>F7</th>\n",
       "      <th>F9</th>\n",
       "      <th>F10</th>\n",
       "      <th>F11</th>\n",
       "      <th>F12</th>\n",
       "      <th>F13</th>\n",
       "      <th>F14</th>\n",
       "      <th>F15</th>\n",
       "      <th>F16</th>\n",
       "      <th>F8_Europe</th>\n",
       "      <th>F8_Rest</th>\n",
       "      <th>F8_UK</th>\n",
       "      <th>F8_USA</th>\n",
       "    </tr>\n",
       "  </thead>\n",
       "  <tbody>\n",
       "    <tr>\n",
       "      <th>0</th>\n",
       "      <td>NaN</td>\n",
       "      <td>0.04</td>\n",
       "      <td>-0.21</td>\n",
       "      <td>3.68</td>\n",
       "      <td>1.54</td>\n",
       "      <td>-6.70</td>\n",
       "      <td>-929.34</td>\n",
       "      <td>234.18</td>\n",
       "      <td>2</td>\n",
       "      <td>3391.35</td>\n",
       "      <td>-415.41</td>\n",
       "      <td>6</td>\n",
       "      <td>-1460.14</td>\n",
       "      <td>-20.55</td>\n",
       "      <td>1</td>\n",
       "      <td>31369.98</td>\n",
       "      <td>0</td>\n",
       "      <td>0</td>\n",
       "      <td>0</td>\n",
       "      <td>1</td>\n",
       "    </tr>\n",
       "    <tr>\n",
       "      <th>1</th>\n",
       "      <td>NaN</td>\n",
       "      <td>0.89</td>\n",
       "      <td>2.97</td>\n",
       "      <td>2.28</td>\n",
       "      <td>1.97</td>\n",
       "      <td>-4.52</td>\n",
       "      <td>-700.62</td>\n",
       "      <td>106.84</td>\n",
       "      <td>2</td>\n",
       "      <td>3479.19</td>\n",
       "      <td>-320.73</td>\n",
       "      <td>2</td>\n",
       "      <td>-2301.76</td>\n",
       "      <td>-27.90</td>\n",
       "      <td>1</td>\n",
       "      <td>29173.89</td>\n",
       "      <td>0</td>\n",
       "      <td>1</td>\n",
       "      <td>0</td>\n",
       "      <td>0</td>\n",
       "    </tr>\n",
       "    <tr>\n",
       "      <th>2</th>\n",
       "      <td>NaN</td>\n",
       "      <td>0.37</td>\n",
       "      <td>-0.17</td>\n",
       "      <td>7.14</td>\n",
       "      <td>0.40</td>\n",
       "      <td>-14.26</td>\n",
       "      <td>-796.14</td>\n",
       "      <td>32.30</td>\n",
       "      <td>5</td>\n",
       "      <td>918.93</td>\n",
       "      <td>-379.44</td>\n",
       "      <td>4</td>\n",
       "      <td>-2589.08</td>\n",
       "      <td>-20.52</td>\n",
       "      <td>0</td>\n",
       "      <td>17248.26</td>\n",
       "      <td>0</td>\n",
       "      <td>0</td>\n",
       "      <td>0</td>\n",
       "      <td>1</td>\n",
       "    </tr>\n",
       "    <tr>\n",
       "      <th>3</th>\n",
       "      <td>NaN</td>\n",
       "      <td>5.37</td>\n",
       "      <td>0.07</td>\n",
       "      <td>7.18</td>\n",
       "      <td>6.81</td>\n",
       "      <td>-6.14</td>\n",
       "      <td>-801.03</td>\n",
       "      <td>32.92</td>\n",
       "      <td>2</td>\n",
       "      <td>2657.43</td>\n",
       "      <td>-491.28</td>\n",
       "      <td>6</td>\n",
       "      <td>-1767.44</td>\n",
       "      <td>-25.81</td>\n",
       "      <td>1</td>\n",
       "      <td>15450.54</td>\n",
       "      <td>1</td>\n",
       "      <td>0</td>\n",
       "      <td>0</td>\n",
       "      <td>0</td>\n",
       "    </tr>\n",
       "    <tr>\n",
       "      <th>4</th>\n",
       "      <td>NaN</td>\n",
       "      <td>0.26</td>\n",
       "      <td>6.16</td>\n",
       "      <td>3.54</td>\n",
       "      <td>1.10</td>\n",
       "      <td>-16.76</td>\n",
       "      <td>-652.08</td>\n",
       "      <td>227.98</td>\n",
       "      <td>4</td>\n",
       "      <td>2739.96</td>\n",
       "      <td>-378.48</td>\n",
       "      <td>10</td>\n",
       "      <td>-1823.32</td>\n",
       "      <td>-23.11</td>\n",
       "      <td>0</td>\n",
       "      <td>35745.03</td>\n",
       "      <td>0</td>\n",
       "      <td>1</td>\n",
       "      <td>0</td>\n",
       "      <td>0</td>\n",
       "    </tr>\n",
       "  </tbody>\n",
       "</table>\n",
       "</div>"
      ],
      "text/plain": [
       "   Target    F1    F2    F3    F4     F5      F6      F7  F9      F10     F11  \\\n",
       "0     NaN  0.04 -0.21  3.68  1.54  -6.70 -929.34  234.18   2  3391.35 -415.41   \n",
       "1     NaN  0.89  2.97  2.28  1.97  -4.52 -700.62  106.84   2  3479.19 -320.73   \n",
       "2     NaN  0.37 -0.17  7.14  0.40 -14.26 -796.14   32.30   5   918.93 -379.44   \n",
       "3     NaN  5.37  0.07  7.18  6.81  -6.14 -801.03   32.92   2  2657.43 -491.28   \n",
       "4     NaN  0.26  6.16  3.54  1.10 -16.76 -652.08  227.98   4  2739.96 -378.48   \n",
       "\n",
       "   F12      F13    F14  F15       F16  F8_Europe  F8_Rest  F8_UK  F8_USA  \n",
       "0    6 -1460.14 -20.55    1  31369.98          0        0      0       1  \n",
       "1    2 -2301.76 -27.90    1  29173.89          0        1      0       0  \n",
       "2    4 -2589.08 -20.52    0  17248.26          0        0      0       1  \n",
       "3    6 -1767.44 -25.81    1  15450.54          1        0      0       0  \n",
       "4   10 -1823.32 -23.11    0  35745.03          0        1      0       0  "
      ]
     },
     "execution_count": 53,
     "metadata": {},
     "output_type": "execute_result"
    }
   ],
   "source": [
    "copy_df = df.copy()\n",
    "preprocess()\n",
    "df.head()"
   ]
  },
  {
   "cell_type": "code",
   "execution_count": 54,
   "metadata": {},
   "outputs": [
    {
     "name": "stdout",
     "output_type": "stream",
     "text": [
      "<class 'pandas.core.frame.DataFrame'>\n",
      "RangeIndex: 1500 entries, 0 to 1499\n",
      "Data columns (total 19 columns):\n",
      " #   Column     Non-Null Count  Dtype  \n",
      "---  ------     --------------  -----  \n",
      " 0   F1         1500 non-null   float64\n",
      " 1   F2         1500 non-null   float64\n",
      " 2   F3         1500 non-null   float64\n",
      " 3   F4         1500 non-null   float64\n",
      " 4   F5         1500 non-null   float64\n",
      " 5   F6         1500 non-null   float64\n",
      " 6   F7         1500 non-null   float64\n",
      " 7   F9         1500 non-null   int64  \n",
      " 8   F10        1500 non-null   float64\n",
      " 9   F11        1500 non-null   float64\n",
      " 10  F12        1500 non-null   int64  \n",
      " 11  F13        1500 non-null   float64\n",
      " 12  F14        1500 non-null   float64\n",
      " 13  F15        1500 non-null   int64  \n",
      " 14  F16        1500 non-null   float64\n",
      " 15  F8_Europe  1500 non-null   uint8  \n",
      " 16  F8_Rest    1500 non-null   uint8  \n",
      " 17  F8_UK      1500 non-null   uint8  \n",
      " 18  F8_USA     1500 non-null   uint8  \n",
      "dtypes: float64(12), int64(3), uint8(4)\n",
      "memory usage: 181.8 KB\n",
      "None\n"
     ]
    }
   ],
   "source": [
    "X = df.drop(columns=['Target'])\n",
    "print(X.info())\n",
    "X = MinMaxScaler().fit_transform(X)"
   ]
  },
  {
   "cell_type": "code",
   "execution_count": 55,
   "metadata": {},
   "outputs": [
    {
     "data": {
      "text/plain": [
       "<tensorflow.python.keras.callbacks.History at 0x15f0fe1c0>"
      ]
     },
     "execution_count": 55,
     "metadata": {},
     "output_type": "execute_result"
    }
   ],
   "source": [
    "inputs_num = training[0].shape[1]\n",
    "input_shape = (inputs_num,)\n",
    "model = Sequential([\n",
    "    Dense(20, activation='tanh', input_shape=input_shape),\n",
    "    Dense(50, activation='relu'),\n",
    "    Dense(50, activation='relu'),\n",
    "    Dense(1, activation='linear'),\n",
    "])\n",
    "model.compile(optimizer='Adam', loss='mse')\n",
    "model.fit(training[0], training[1], epochs=50, verbose=0)"
   ]
  },
  {
   "cell_type": "code",
   "execution_count": 56,
   "metadata": {},
   "outputs": [
    {
     "data": {
      "text/html": [
       "<div>\n",
       "<style scoped>\n",
       "    .dataframe tbody tr th:only-of-type {\n",
       "        vertical-align: middle;\n",
       "    }\n",
       "\n",
       "    .dataframe tbody tr th {\n",
       "        vertical-align: top;\n",
       "    }\n",
       "\n",
       "    .dataframe thead th {\n",
       "        text-align: right;\n",
       "    }\n",
       "</style>\n",
       "<table border=\"1\" class=\"dataframe\">\n",
       "  <thead>\n",
       "    <tr style=\"text-align: right;\">\n",
       "      <th></th>\n",
       "      <th>F1</th>\n",
       "      <th>F2</th>\n",
       "      <th>F3</th>\n",
       "      <th>F4</th>\n",
       "      <th>F5</th>\n",
       "      <th>F6</th>\n",
       "      <th>F7</th>\n",
       "      <th>F8</th>\n",
       "      <th>F9</th>\n",
       "      <th>F10</th>\n",
       "      <th>F11</th>\n",
       "      <th>F12</th>\n",
       "      <th>F13</th>\n",
       "      <th>F14</th>\n",
       "      <th>F15</th>\n",
       "      <th>F16</th>\n",
       "      <th>Target</th>\n",
       "    </tr>\n",
       "  </thead>\n",
       "  <tbody>\n",
       "    <tr>\n",
       "      <th>0</th>\n",
       "      <td>0.04</td>\n",
       "      <td>-0.21</td>\n",
       "      <td>3.68</td>\n",
       "      <td>1.54</td>\n",
       "      <td>-6.70</td>\n",
       "      <td>-929.34</td>\n",
       "      <td>234.18</td>\n",
       "      <td>USA</td>\n",
       "      <td>2</td>\n",
       "      <td>3391.35</td>\n",
       "      <td>-415.41</td>\n",
       "      <td>6</td>\n",
       "      <td>-1460.14</td>\n",
       "      <td>-20.55</td>\n",
       "      <td>Low</td>\n",
       "      <td>31369.98</td>\n",
       "      <td>435.738495</td>\n",
       "    </tr>\n",
       "    <tr>\n",
       "      <th>1</th>\n",
       "      <td>0.89</td>\n",
       "      <td>2.97</td>\n",
       "      <td>2.28</td>\n",
       "      <td>1.97</td>\n",
       "      <td>-4.52</td>\n",
       "      <td>-700.62</td>\n",
       "      <td>106.84</td>\n",
       "      <td>Rest</td>\n",
       "      <td>2</td>\n",
       "      <td>3479.19</td>\n",
       "      <td>-320.73</td>\n",
       "      <td>2</td>\n",
       "      <td>-2301.76</td>\n",
       "      <td>-27.90</td>\n",
       "      <td>Low</td>\n",
       "      <td>29173.89</td>\n",
       "      <td>-53.704132</td>\n",
       "    </tr>\n",
       "    <tr>\n",
       "      <th>2</th>\n",
       "      <td>0.37</td>\n",
       "      <td>-0.17</td>\n",
       "      <td>7.14</td>\n",
       "      <td>0.40</td>\n",
       "      <td>-14.26</td>\n",
       "      <td>-796.14</td>\n",
       "      <td>32.30</td>\n",
       "      <td>USA</td>\n",
       "      <td>5</td>\n",
       "      <td>918.93</td>\n",
       "      <td>-379.44</td>\n",
       "      <td>4</td>\n",
       "      <td>-2589.08</td>\n",
       "      <td>-20.52</td>\n",
       "      <td>Very low</td>\n",
       "      <td>17248.26</td>\n",
       "      <td>72.795120</td>\n",
       "    </tr>\n",
       "    <tr>\n",
       "      <th>3</th>\n",
       "      <td>5.37</td>\n",
       "      <td>0.07</td>\n",
       "      <td>7.18</td>\n",
       "      <td>6.81</td>\n",
       "      <td>-6.14</td>\n",
       "      <td>-801.03</td>\n",
       "      <td>32.92</td>\n",
       "      <td>Europe</td>\n",
       "      <td>2</td>\n",
       "      <td>2657.43</td>\n",
       "      <td>-491.28</td>\n",
       "      <td>6</td>\n",
       "      <td>-1767.44</td>\n",
       "      <td>-25.81</td>\n",
       "      <td>Low</td>\n",
       "      <td>15450.54</td>\n",
       "      <td>148.129532</td>\n",
       "    </tr>\n",
       "    <tr>\n",
       "      <th>4</th>\n",
       "      <td>0.26</td>\n",
       "      <td>6.16</td>\n",
       "      <td>3.54</td>\n",
       "      <td>1.10</td>\n",
       "      <td>-16.76</td>\n",
       "      <td>-652.08</td>\n",
       "      <td>227.98</td>\n",
       "      <td>Rest</td>\n",
       "      <td>4</td>\n",
       "      <td>2739.96</td>\n",
       "      <td>-378.48</td>\n",
       "      <td>10</td>\n",
       "      <td>-1823.32</td>\n",
       "      <td>-23.11</td>\n",
       "      <td>Very low</td>\n",
       "      <td>35745.03</td>\n",
       "      <td>245.783798</td>\n",
       "    </tr>\n",
       "  </tbody>\n",
       "</table>\n",
       "</div>"
      ],
      "text/plain": [
       "     F1    F2    F3    F4     F5      F6      F7      F8  F9      F10     F11  \\\n",
       "0  0.04 -0.21  3.68  1.54  -6.70 -929.34  234.18     USA   2  3391.35 -415.41   \n",
       "1  0.89  2.97  2.28  1.97  -4.52 -700.62  106.84    Rest   2  3479.19 -320.73   \n",
       "2  0.37 -0.17  7.14  0.40 -14.26 -796.14   32.30     USA   5   918.93 -379.44   \n",
       "3  5.37  0.07  7.18  6.81  -6.14 -801.03   32.92  Europe   2  2657.43 -491.28   \n",
       "4  0.26  6.16  3.54  1.10 -16.76 -652.08  227.98    Rest   4  2739.96 -378.48   \n",
       "\n",
       "   F12      F13    F14       F15       F16      Target  \n",
       "0    6 -1460.14 -20.55       Low  31369.98  435.738495  \n",
       "1    2 -2301.76 -27.90       Low  29173.89  -53.704132  \n",
       "2    4 -2589.08 -20.52  Very low  17248.26   72.795120  \n",
       "3    6 -1767.44 -25.81       Low  15450.54  148.129532  \n",
       "4   10 -1823.32 -23.11  Very low  35745.03  245.783798  "
      ]
     },
     "execution_count": 56,
     "metadata": {},
     "output_type": "execute_result"
    }
   ],
   "source": [
    "copy_df['Target'] = model.predict(X)\n",
    "copy_df.head()"
   ]
  },
  {
   "cell_type": "code",
   "execution_count": 57,
   "metadata": {},
   "outputs": [],
   "source": [
    "copy_df.to_csv('./CE802_P3_Data/CE802_P3_Test.csv', index=False)"
   ]
  }
 ],
 "metadata": {
  "kernelspec": {
   "display_name": "Python 3",
   "language": "python",
   "name": "python3"
  },
  "language_info": {
   "codemirror_mode": {
    "name": "ipython",
    "version": 3
   },
   "file_extension": ".py",
   "mimetype": "text/x-python",
   "name": "python",
   "nbconvert_exporter": "python",
   "pygments_lexer": "ipython3",
   "version": "3.8.7"
  }
 },
 "nbformat": 4,
 "nbformat_minor": 2
}
