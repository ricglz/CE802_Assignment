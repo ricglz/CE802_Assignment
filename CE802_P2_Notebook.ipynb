{
 "cells": [
  {
   "cell_type": "markdown",
   "metadata": {},
   "source": [
    "#### Import the dependencies"
   ]
  },
  {
   "cell_type": "code",
   "execution_count": 1,
   "metadata": {},
   "outputs": [],
   "source": [
    "#!/usr/bin/env python\n",
    "# -*- coding: utf-8 -*-\n",
    "import numpy as np\n",
    "import pandas as pd\n",
    "import seaborn as sns\n",
    "from sklearn.model_selection import train_test_split\n",
    "from sklearn.preprocessing import MinMaxScaler\n",
    "from sklearn.tree import DecisionTreeClassifier\n",
    "from sklearn.naive_bayes import CategoricalNB\n",
    "from sklearn.svm import SVC\n",
    "from tensorflow.keras.models import Sequential\n",
    "from tensorflow.keras.layers import Dense\n",
    "from itertools import product"
   ]
  },
  {
   "cell_type": "markdown",
   "metadata": {},
   "source": [
    "#### Read the training dataset"
   ]
  },
  {
   "cell_type": "code",
   "execution_count": 37,
   "metadata": {},
   "outputs": [],
   "source": [
    "df = pd.read_csv('./CE802_P2_Data/CE802_P2_Data.csv')"
   ]
  },
  {
   "cell_type": "markdown",
   "metadata": {},
   "source": [
    "#### Check the amount of rows"
   ]
  },
  {
   "cell_type": "code",
   "execution_count": 3,
   "metadata": {},
   "outputs": [
    {
     "data": {
      "text/plain": [
       "1500"
      ]
     },
     "execution_count": 3,
     "metadata": {},
     "output_type": "execute_result"
    }
   ],
   "source": [
    "len(df)"
   ]
  },
  {
   "cell_type": "markdown",
   "metadata": {},
   "source": [
    "#### Move the class column to the first column"
   ]
  },
  {
   "cell_type": "code",
   "execution_count": 38,
   "metadata": {},
   "outputs": [],
   "source": [
    "klass = df['Class']\n",
    "df = df.drop(columns=['Class'])\n",
    "df.insert(0, 'Class', klass)"
   ]
  },
  {
   "cell_type": "markdown",
   "metadata": {},
   "source": [
    "#### Check missing null values"
   ]
  },
  {
   "cell_type": "code",
   "execution_count": 5,
   "metadata": {},
   "outputs": [
    {
     "data": {
      "text/plain": [
       "Class      0\n",
       "F1         0\n",
       "F2         0\n",
       "F3         0\n",
       "F4         0\n",
       "F5         0\n",
       "F6         0\n",
       "F7         0\n",
       "F8         0\n",
       "F9         0\n",
       "F10        0\n",
       "F11        0\n",
       "F12        0\n",
       "F13        0\n",
       "F14        0\n",
       "F15      750\n",
       "dtype: int64"
      ]
     },
     "execution_count": 5,
     "metadata": {},
     "output_type": "execute_result"
    }
   ],
   "source": [
    "df.isnull().sum()"
   ]
  },
  {
   "cell_type": "markdown",
   "metadata": {},
   "source": [
    "#### Fill the values with the current median"
   ]
  },
  {
   "cell_type": "code",
   "execution_count": 39,
   "metadata": {},
   "outputs": [],
   "source": [
    "df['F15'].fillna(df['F15'].median(), inplace = True)"
   ]
  },
  {
   "cell_type": "code",
   "execution_count": 7,
   "metadata": {},
   "outputs": [
    {
     "data": {
      "text/plain": [
       "Class    0\n",
       "F1       0\n",
       "F2       0\n",
       "F3       0\n",
       "F4       0\n",
       "F5       0\n",
       "F6       0\n",
       "F7       0\n",
       "F8       0\n",
       "F9       0\n",
       "F10      0\n",
       "F11      0\n",
       "F12      0\n",
       "F13      0\n",
       "F14      0\n",
       "F15      0\n",
       "dtype: int64"
      ]
     },
     "execution_count": 7,
     "metadata": {},
     "output_type": "execute_result"
    }
   ],
   "source": [
    "df.isnull().sum()"
   ]
  },
  {
   "cell_type": "markdown",
   "metadata": {},
   "source": [
    "#### Check which features are discrete"
   ]
  },
  {
   "cell_type": "code",
   "execution_count": 8,
   "metadata": {},
   "outputs": [
    {
     "name": "stdout",
     "output_type": "stream",
     "text": [
      "Class 2\n",
      "F1 656\n",
      "F2 432\n",
      "F3 141\n",
      "F4 650\n",
      "F5 4\n",
      "F6 214\n",
      "F7 660\n",
      "F8 91\n",
      "F9 400\n",
      "F10 649\n",
      "F11 646\n",
      "F12 11\n",
      "F13 216\n",
      "F14 80\n",
      "F15 331\n"
     ]
    }
   ],
   "source": [
    "for column in df.columns:\n",
    "    print(column, len(df[column].unique()))"
   ]
  },
  {
   "cell_type": "markdown",
   "metadata": {},
   "source": [
    "Based on this data, I'm thinking that the best would be to consider those features which amount of unique values are less than 100. Mainly because I want to have few values as discrete. This results in the following features as being discrete:\n",
    "\n",
    "- F5\n",
    "- F8\n",
    "- F12\n",
    "- F14"
   ]
  },
  {
   "cell_type": "markdown",
   "metadata": {},
   "source": [
    "#### Quick analysis of correlation of features and class"
   ]
  },
  {
   "cell_type": "code",
   "execution_count": 9,
   "metadata": {},
   "outputs": [
    {
     "data": {
      "text/plain": [
       "<AxesSubplot:>"
      ]
     },
     "execution_count": 9,
     "metadata": {},
     "output_type": "execute_result"
    },
    {
     "data": {
      "image/png": "[encoded data removed]",
      "text/plain": [
       "<Figure size 432x288 with 2 Axes>"
      ]
     },
     "metadata": {},
     "output_type": "display_data"
    }
   ],
   "source": [
    "sns.set_theme()\n",
    "# Compute the correlation matrix\n",
    "corr_all = df.corr()\n",
    "# Generate a mask for the upper triangle\n",
    "mask = np.zeros_like(corr_all, dtype = np.bool)\n",
    "mask[np.triu_indices_from(mask)] = True\n",
    "# Draw the heatmap with the mask and correct aspect ratio\n",
    "sns.heatmap(corr_all, mask = mask, cmap = \"BuPu\")"
   ]
  },
  {
   "cell_type": "markdown",
   "metadata": {},
   "source": [
    "Seems like the maybe the best columns to check will be:\n",
    "\n",
    "- F1\n",
    "- F7\n",
    "- F10\n",
    "- F12\n",
    "- F14\n",
    "\n",
    "This will help to reduce the complexity while also having those variables that seems correlated with the class column"
   ]
  },
  {
   "cell_type": "markdown",
   "metadata": {},
   "source": [
    "#### Preprocessing\n",
    "\n",
    "For this it's more about the creation of datasets for training and testing, while also performing some preparation of it"
   ]
  },
  {
   "cell_type": "code",
   "execution_count": 10,
   "metadata": {},
   "outputs": [],
   "source": [
    "corr_cols = ['F1', 'F7', 'F10', 'F12', 'F14']\n",
    "bayes_cols = ['F5', 'F8', 'F12', 'F14']\n",
    "def preprocess(all_columns=True, cols=None):\n",
    "    df['Class'] = df['Class'].astype(int)\n",
    "    x_cols = df.columns[1:] if all_columns else corr_cols if cols is None else cols\n",
    "    X, Y = df[x_cols], df['Class']\n",
    "    scaler = MinMaxScaler()\n",
    "    X = scaler.fit_transform(X)\n",
    "    x_train, x_test, y_train, y_test = train_test_split(X, Y, test_size=0.3)\n",
    "    return (x_train, y_train), (x_test, y_test)\n",
    "\n",
    "corr_preprocess = lambda: preprocess(False)\n",
    "bayes_preprocess = lambda: preprocess(False, bayes_cols)"
   ]
  },
  {
   "cell_type": "markdown",
   "metadata": {},
   "source": [
    "## Check the performance"
   ]
  },
  {
   "cell_type": "markdown",
   "metadata": {},
   "source": [
    "#### Create function to permurate params\n",
    "What this function will do is the following\n",
    "\n",
    "1. Create all the combination of the possible parameters values given to the function.Ex.\n",
    "\n",
    "`params = [[1, 2], [4, 5]] -> products = [(1, 4), (1, 5), (2, 4), (2, 5)]`\n",
    "\n",
    "2. Evaluate each of the products using the builder function. _Note. All the builders will return a score, in this case the score is the mean accuracy of the model_\n",
    "3. Based on the prior evaluation, we will see which is the argmax and return the score and params used"
   ]
  },
  {
   "cell_type": "code",
   "execution_count": 11,
   "metadata": {},
   "outputs": [],
   "source": [
    "def permutate_params(builder, params, current_params=None):\n",
    "    products = list(product(*params))\n",
    "    scores = list(map(builder, products))\n",
    "    max_index = np.argmax(scores)\n",
    "    return scores[max_index], products[max_index]"
   ]
  },
  {
   "cell_type": "markdown",
   "metadata": {},
   "source": [
    "#### Get training and testing datasets"
   ]
  },
  {
   "cell_type": "code",
   "execution_count": 12,
   "metadata": {},
   "outputs": [],
   "source": [
    "training, testing = preprocess()"
   ]
  },
  {
   "cell_type": "markdown",
   "metadata": {},
   "source": [
    "### DecisionTreeClassifier"
   ]
  },
  {
   "cell_type": "markdown",
   "metadata": {},
   "source": [
    "#### Create builder function\n",
    "\n",
    "As shown below in this case we will create a `DecisionTreeClassifier` using as hyperparameters to tune the following parameters\n",
    "\n",
    "- max_depth\n",
    "- min_samples_split\n",
    "- max_features"
   ]
  },
  {
   "cell_type": "code",
   "execution_count": 13,
   "metadata": {},
   "outputs": [],
   "source": [
    "def build_tree(values):\n",
    "    max_depth, min_samples_split, max_features = values \n",
    "    clf = DecisionTreeClassifier(\n",
    "        max_depth=max_depth,\n",
    "        min_samples_split=min_samples_split,\n",
    "        max_features=max_features\n",
    "    )\n",
    "    clf.fit(training[0], training[1])\n",
    "    return clf.score(testing[0], testing[1])"
   ]
  },
  {
   "cell_type": "markdown",
   "metadata": {},
   "source": [
    "#### Add parameter values to experiment with"
   ]
  },
  {
   "cell_type": "code",
   "execution_count": 14,
   "metadata": {},
   "outputs": [],
   "source": [
    "max_depths = [2, 8, 64, 256]\n",
    "min_samples_splits = [2, 4, 8]\n",
    "max_features = ['sqrt', 'log2', None]"
   ]
  },
  {
   "cell_type": "markdown",
   "metadata": {},
   "source": [
    "#### Check which is the best permutation"
   ]
  },
  {
   "cell_type": "code",
   "execution_count": 15,
   "metadata": {},
   "outputs": [
    {
     "name": "stdout",
     "output_type": "stream",
     "text": [
      "Best params (8, 2, None)\n",
      "Best Score 0.7977777777777778\n"
     ]
    }
   ],
   "source": [
    "score, best_params = permutate_params(build_tree, [max_depths, min_samples_splits, max_features])\n",
    "\n",
    "print('Best params', best_params)\n",
    "print('Best Score', score)"
   ]
  },
  {
   "cell_type": "markdown",
   "metadata": {},
   "source": [
    "### SVMs"
   ]
  },
  {
   "cell_type": "markdown",
   "metadata": {},
   "source": [
    "#### Create builder function\n",
    "\n",
    "As shown below in this case we will create a `SVC` using as hyperparameters to tune the following parameters\n",
    "\n",
    "- C\n",
    "- kernel\n",
    "- gamma"
   ]
  },
  {
   "cell_type": "code",
   "execution_count": 16,
   "metadata": {},
   "outputs": [],
   "source": [
    "def build_svm(values):\n",
    "    C, kernel, gamma = values\n",
    "    clf = SVC(C=C, kernel=kernel, gamma=gamma)\n",
    "    clf.fit(training[0], training[1])\n",
    "    return clf.score(testing[0], testing[1])"
   ]
  },
  {
   "cell_type": "code",
   "execution_count": 17,
   "metadata": {},
   "outputs": [],
   "source": [
    "cs = [0.5, 1, 2, 4]\n",
    "kernels = ['poly', 'rbf', 'sigmoid']\n",
    "gammas = ['scale', 'auto']"
   ]
  },
  {
   "cell_type": "code",
   "execution_count": 18,
   "metadata": {},
   "outputs": [
    {
     "name": "stdout",
     "output_type": "stream",
     "text": [
      "Best params (4, 'poly', 'scale')\n",
      "Best Score 0.8955555555555555\n"
     ]
    }
   ],
   "source": [
    "score, best_params = permutate_params(build_svm, [cs, kernels, gammas])\n",
    "\n",
    "print('Best params', best_params)\n",
    "print('Best Score', score)"
   ]
  },
  {
   "cell_type": "markdown",
   "metadata": {},
   "source": [
    "### Neural Networks"
   ]
  },
  {
   "cell_type": "markdown",
   "metadata": {},
   "source": [
    "#### Create builder function\n",
    "\n",
    "This builder function is the must complicated of all. The overall objective of the builder is to create a function that creates a MLP Neural Network that consists of **3 hidden layers**.\n",
    "\n",
    "The main difference with the other builders is that the parameters received for the builder are actually an array consisting of tuples of parameters. As each of this tuples are the parameters that each of the layers may have, in this case being the amount of units per layer and the activation function."
   ]
  },
  {
   "cell_type": "code",
   "execution_count": 19,
   "metadata": {},
   "outputs": [],
   "source": [
    "inputs_num = training[0].shape[1]\n",
    "input_shape = (inputs_num,)\n",
    "def build_nn(values):\n",
    "    model = Sequential()\n",
    "    for index, layer_params in enumerate(values):\n",
    "        units, activation = layer_params\n",
    "        if index == 0:\n",
    "            model.add(Dense(units, activation=activation, input_shape=input_shape))\n",
    "        else:\n",
    "            model.add(Dense(units, activation=activation))\n",
    "    model.add(Dense(2, activation='softmax'))\n",
    "    model.compile(\n",
    "        optimizer='Adam',\n",
    "        loss='sparse_categorical_crossentropy',\n",
    "        metrics=['accuracy'],\n",
    "    )\n",
    "    history = model.fit(\n",
    "        training[0],\n",
    "        training[1],\n",
    "        validation_data=testing,\n",
    "        epochs=50,\n",
    "        verbose=0).history\n",
    "    return history['val_accuracy'][-1]"
   ]
  },
  {
   "cell_type": "code",
   "execution_count": 20,
   "metadata": {},
   "outputs": [],
   "source": [
    "layer_products = list(product([5, 10, 20, 50], ['tanh', 'relu', 'sigmoid']))"
   ]
  },
  {
   "cell_type": "code",
   "execution_count": 22,
   "metadata": {},
   "outputs": [
    {
     "name": "stdout",
     "output_type": "stream",
     "text": [
      "Best params ((50, 'relu'), (50, 'relu'), (50, 'relu'))\n",
      "Best Score 0.8733333349227905\n"
     ]
    }
   ],
   "source": [
    "best_params, best_score = [], 0\n",
    "\n",
    "for params in list(product(layer_products, layer_products, layer_products)):\n",
    "    score = build_nn(params)\n",
    "    if score > best_score:\n",
    "        best_params = params\n",
    "        best_score = score\n",
    "\n",
    "print('Best params', best_params)\n",
    "print('Best Score', best_score)"
   ]
  },
  {
   "cell_type": "markdown",
   "metadata": {},
   "source": [
    "## Check the performance (correlation features)"
   ]
  },
  {
   "cell_type": "code",
   "execution_count": 23,
   "metadata": {},
   "outputs": [],
   "source": [
    "training, testing = corr_preprocess()"
   ]
  },
  {
   "cell_type": "markdown",
   "metadata": {},
   "source": [
    "After this we will reuse the same code for obtaining the best score and permutation as above, being the only difference the training and testing datasets used"
   ]
  },
  {
   "cell_type": "code",
   "execution_count": 24,
   "metadata": {},
   "outputs": [
    {
     "name": "stdout",
     "output_type": "stream",
     "text": [
      "Best params (8, 8, 'sqrt')\n",
      "Best Score 0.6711111111111111\n"
     ]
    }
   ],
   "source": [
    "score, best_params = permutate_params(build_tree, [max_depths, min_samples_splits, max_features])\n",
    "\n",
    "print('Best params', best_params)\n",
    "print('Best Score', score)"
   ]
  },
  {
   "cell_type": "code",
   "execution_count": 25,
   "metadata": {},
   "outputs": [
    {
     "name": "stdout",
     "output_type": "stream",
     "text": [
      "Best params (0.5, 'rbf', 'scale')\n",
      "Best Score 0.6711111111111111\n"
     ]
    }
   ],
   "source": [
    "score, best_params = permutate_params(build_svm, [cs, kernels, gammas])\n",
    "\n",
    "print('Best params', best_params)\n",
    "print('Best Score', score)"
   ]
  },
  {
   "cell_type": "code",
   "execution_count": 27,
   "metadata": {},
   "outputs": [
    {
     "name": "stdout",
     "output_type": "stream",
     "text": [
      "Best params ((50, 'relu'), (50, 'relu'), (5, 'relu'))\n",
      "Best Score 0.6755555272102356\n"
     ]
    }
   ],
   "source": [
    "best_params, best_score = [], 0\n",
    "inputs_num = training[0].shape[1]\n",
    "input_shape = (inputs_num,)\n",
    "\n",
    "for params in list(product(layer_products, layer_products, layer_products)):\n",
    "    score = build_nn(params)\n",
    "    if score > best_score:\n",
    "        best_params = params\n",
    "        best_score = score\n",
    "\n",
    "print('Best params', best_params)\n",
    "print('Best Score', best_score)"
   ]
  },
  {
   "cell_type": "markdown",
   "metadata": {},
   "source": [
    "## Categorical Naive-Bayes\n",
    "\n",
    "Contrary to the other models we will not be testing with other values, because there were not a lot of values to experiment with"
   ]
  },
  {
   "cell_type": "code",
   "execution_count": 28,
   "metadata": {},
   "outputs": [
    {
     "data": {
      "text/plain": [
       "0.6177777777777778"
      ]
     },
     "execution_count": 28,
     "metadata": {},
     "output_type": "execute_result"
    }
   ],
   "source": [
    "training, testing = bayes_preprocess()\n",
    "clf = CategoricalNB()\n",
    "clf.fit(training[0], training[1])\n",
    "clf.score(testing[0], testing[1])"
   ]
  },
  {
   "cell_type": "markdown",
   "metadata": {},
   "source": [
    "## Predict test dataset\n",
    "\n",
    "Based on the results above, the best model that we obtained was the SVC model using all the data, the following scripts will be used to predict the class of the test dataset using the mentioned model"
   ]
  },
  {
   "cell_type": "code",
   "execution_count": 40,
   "metadata": {},
   "outputs": [
    {
     "data": {
      "text/plain": [
       "F1          0\n",
       "F2          0\n",
       "F3          0\n",
       "F4          0\n",
       "F5          0\n",
       "F6          0\n",
       "F7          0\n",
       "F8          0\n",
       "F9          0\n",
       "F10         0\n",
       "F11         0\n",
       "F12         0\n",
       "F13         0\n",
       "F14         0\n",
       "F15       750\n",
       "Class    1500\n",
       "dtype: int64"
      ]
     },
     "execution_count": 40,
     "metadata": {},
     "output_type": "execute_result"
    }
   ],
   "source": [
    "training, testing = preprocess()\n",
    "df = pd.read_csv('./CE802_P2_Data/CE802_P2_Test.csv')\n",
    "df.isnull().sum()"
   ]
  },
  {
   "cell_type": "code",
   "execution_count": 41,
   "metadata": {},
   "outputs": [],
   "source": [
    "df['F15'].fillna(df['F15'].median(), inplace = True)"
   ]
  },
  {
   "cell_type": "code",
   "execution_count": 42,
   "metadata": {},
   "outputs": [],
   "source": [
    "x_cols = df.columns[:-1]\n",
    "X = df[x_cols]\n",
    "scaler = MinMaxScaler()\n",
    "X = scaler.fit_transform(X)"
   ]
  },
  {
   "cell_type": "code",
   "execution_count": 43,
   "metadata": {},
   "outputs": [
    {
     "data": {
      "text/plain": [
       "SVC(C=4, kernel='poly')"
      ]
     },
     "execution_count": 43,
     "metadata": {},
     "output_type": "execute_result"
    }
   ],
   "source": [
    "C, kernel, gamma = (4, 'poly', 'scale')\n",
    "clf = SVC(C=C, kernel=kernel, gamma=gamma)\n",
    "clf.fit(training[0], training[1])"
   ]
  },
  {
   "cell_type": "code",
   "execution_count": 44,
   "metadata": {},
   "outputs": [
    {
     "data": {
      "text/html": [
       "<div>\n",
       "<style scoped>\n",
       "    .dataframe tbody tr th:only-of-type {\n",
       "        vertical-align: middle;\n",
       "    }\n",
       "\n",
       "    .dataframe tbody tr th {\n",
       "        vertical-align: top;\n",
       "    }\n",
       "\n",
       "    .dataframe thead th {\n",
       "        text-align: right;\n",
       "    }\n",
       "</style>\n",
       "<table border=\"1\" class=\"dataframe\">\n",
       "  <thead>\n",
       "    <tr style=\"text-align: right;\">\n",
       "      <th></th>\n",
       "      <th>F1</th>\n",
       "      <th>F2</th>\n",
       "      <th>F3</th>\n",
       "      <th>F4</th>\n",
       "      <th>F5</th>\n",
       "      <th>F6</th>\n",
       "      <th>F7</th>\n",
       "      <th>F8</th>\n",
       "      <th>F9</th>\n",
       "      <th>F10</th>\n",
       "      <th>F11</th>\n",
       "      <th>F12</th>\n",
       "      <th>F13</th>\n",
       "      <th>F14</th>\n",
       "      <th>F15</th>\n",
       "      <th>Class</th>\n",
       "    </tr>\n",
       "  </thead>\n",
       "  <tbody>\n",
       "    <tr>\n",
       "      <th>0</th>\n",
       "      <td>3.54</td>\n",
       "      <td>0.45</td>\n",
       "      <td>600</td>\n",
       "      <td>2.16</td>\n",
       "      <td>20</td>\n",
       "      <td>33.86</td>\n",
       "      <td>-4.16</td>\n",
       "      <td>207.86</td>\n",
       "      <td>8.30</td>\n",
       "      <td>6.64</td>\n",
       "      <td>-17.68</td>\n",
       "      <td>-36.32</td>\n",
       "      <td>16.80</td>\n",
       "      <td>-49.14</td>\n",
       "      <td>-6.810</td>\n",
       "      <td>0</td>\n",
       "    </tr>\n",
       "    <tr>\n",
       "      <th>1</th>\n",
       "      <td>12.96</td>\n",
       "      <td>4.50</td>\n",
       "      <td>6</td>\n",
       "      <td>-5.42</td>\n",
       "      <td>2</td>\n",
       "      <td>21.22</td>\n",
       "      <td>-0.66</td>\n",
       "      <td>115.86</td>\n",
       "      <td>1.95</td>\n",
       "      <td>10.19</td>\n",
       "      <td>-24.32</td>\n",
       "      <td>-21.32</td>\n",
       "      <td>0.06</td>\n",
       "      <td>-229.14</td>\n",
       "      <td>-7.100</td>\n",
       "      <td>0</td>\n",
       "    </tr>\n",
       "    <tr>\n",
       "      <th>2</th>\n",
       "      <td>13.02</td>\n",
       "      <td>2.74</td>\n",
       "      <td>81</td>\n",
       "      <td>-7.08</td>\n",
       "      <td>2</td>\n",
       "      <td>21.28</td>\n",
       "      <td>1.40</td>\n",
       "      <td>111.86</td>\n",
       "      <td>2.05</td>\n",
       "      <td>11.30</td>\n",
       "      <td>-34.98</td>\n",
       "      <td>-21.32</td>\n",
       "      <td>0.42</td>\n",
       "      <td>-217.14</td>\n",
       "      <td>-7.050</td>\n",
       "      <td>0</td>\n",
       "    </tr>\n",
       "    <tr>\n",
       "      <th>3</th>\n",
       "      <td>14.91</td>\n",
       "      <td>1.00</td>\n",
       "      <td>162</td>\n",
       "      <td>-8.30</td>\n",
       "      <td>2</td>\n",
       "      <td>21.12</td>\n",
       "      <td>-0.42</td>\n",
       "      <td>85.86</td>\n",
       "      <td>0.96</td>\n",
       "      <td>10.16</td>\n",
       "      <td>-24.68</td>\n",
       "      <td>-25.32</td>\n",
       "      <td>0.42</td>\n",
       "      <td>-202.14</td>\n",
       "      <td>-7.775</td>\n",
       "      <td>0</td>\n",
       "    </tr>\n",
       "    <tr>\n",
       "      <th>4</th>\n",
       "      <td>2.61</td>\n",
       "      <td>1.46</td>\n",
       "      <td>1020</td>\n",
       "      <td>4.66</td>\n",
       "      <td>20</td>\n",
       "      <td>30.66</td>\n",
       "      <td>-0.46</td>\n",
       "      <td>122.86</td>\n",
       "      <td>7.20</td>\n",
       "      <td>7.04</td>\n",
       "      <td>-16.86</td>\n",
       "      <td>-26.32</td>\n",
       "      <td>20.25</td>\n",
       "      <td>-289.14</td>\n",
       "      <td>-7.775</td>\n",
       "      <td>0</td>\n",
       "    </tr>\n",
       "  </tbody>\n",
       "</table>\n",
       "</div>"
      ],
      "text/plain": [
       "      F1    F2    F3    F4  F5     F6    F7      F8    F9    F10    F11  \\\n",
       "0   3.54  0.45   600  2.16  20  33.86 -4.16  207.86  8.30   6.64 -17.68   \n",
       "1  12.96  4.50     6 -5.42   2  21.22 -0.66  115.86  1.95  10.19 -24.32   \n",
       "2  13.02  2.74    81 -7.08   2  21.28  1.40  111.86  2.05  11.30 -34.98   \n",
       "3  14.91  1.00   162 -8.30   2  21.12 -0.42   85.86  0.96  10.16 -24.68   \n",
       "4   2.61  1.46  1020  4.66  20  30.66 -0.46  122.86  7.20   7.04 -16.86   \n",
       "\n",
       "     F12    F13     F14    F15  Class  \n",
       "0 -36.32  16.80  -49.14 -6.810      0  \n",
       "1 -21.32   0.06 -229.14 -7.100      0  \n",
       "2 -21.32   0.42 -217.14 -7.050      0  \n",
       "3 -25.32   0.42 -202.14 -7.775      0  \n",
       "4 -26.32  20.25 -289.14 -7.775      0  "
      ]
     },
     "execution_count": 44,
     "metadata": {},
     "output_type": "execute_result"
    }
   ],
   "source": [
    "df['Class'] = clf.predict(X)\n",
    "df.head()"
   ]
  },
  {
   "cell_type": "code",
   "execution_count": 46,
   "metadata": {},
   "outputs": [],
   "source": [
    "df.to_csv('./CE802_P2_Data/CE802_P2_Test.csv', index=False)"
   ]
  }
 ],
 "metadata": {
  "kernelspec": {
   "display_name": "Python 3",
   "language": "python",
   "name": "python3"
  },
  "language_info": {
   "codemirror_mode": {
    "name": "ipython",
    "version": 3
   },
   "file_extension": ".py",
   "mimetype": "text/x-python",
   "name": "python",
   "nbconvert_exporter": "python",
   "pygments_lexer": "ipython3",
   "version": "3.8.7"
  }
 },
 "nbformat": 4,
 "nbformat_minor": 2
}
